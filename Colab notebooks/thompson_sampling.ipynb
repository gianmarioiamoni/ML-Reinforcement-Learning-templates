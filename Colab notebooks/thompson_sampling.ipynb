{
  "nbformat": 4,
  "nbformat_minor": 0,
  "metadata": {
    "colab": {
      "provenance": []
    },
    "kernelspec": {
      "name": "python3",
      "display_name": "Python 3"
    }
  },
  "cells": [
    {
      "cell_type": "markdown",
      "metadata": {
        "id": "vPKTIRAtx232"
      },
      "source": [
        "# Thompson Sampling"
      ]
    },
    {
      "cell_type": "markdown",
      "metadata": {
        "id": "PqPv9zpAx-EE"
      },
      "source": [
        "## Importing the libraries"
      ]
    },
    {
      "cell_type": "code",
      "metadata": {
        "id": "lozuE-Fhx_QB"
      },
      "source": [
        "import numpy as np\n",
        "import matplotlib.pyplot as plt\n",
        "import pandas as pd"
      ],
      "execution_count": 1,
      "outputs": []
    },
    {
      "cell_type": "markdown",
      "metadata": {
        "id": "iqpVk5HhyGmO"
      },
      "source": [
        "## Importing the dataset"
      ]
    },
    {
      "cell_type": "code",
      "metadata": {
        "id": "kY4zzW4hyNfA"
      },
      "source": [
        "dataset = pd.read_csv('Ads_CTR_Optimisation.csv')"
      ],
      "execution_count": 2,
      "outputs": []
    },
    {
      "cell_type": "markdown",
      "metadata": {
        "id": "WqoXeWOYyQhB"
      },
      "source": [
        "## Implementing Thompson Sampling"
      ]
    },
    {
      "cell_type": "code",
      "source": [
        "# Implementing Thompson Sampling\n",
        "import random\n",
        "N = 10000 # total number of rounds (users)\n",
        "d = 10 # total number of armed bandits (ads)\n",
        "ads_selected = [] # selected ads we selected at each round\n",
        "\n",
        "# 1. At each round n, we consider two numbers for each ADi:\n",
        "#   - N|1i(n): the number of times the ADi got reward 1 up to round n\n",
        "#   - N|0i(n): the number of times the ADi got reqard 0 up to round n\n",
        "numbers_of_rewards_1 = [0] * d # list of N|1\n",
        "numbers_of_rewards_0 = [0] * d # list of N|0\n",
        "total_reward = 0 # accumultae reward we got over time\n",
        "\n",
        "# main loop interacting through the N rounds\n",
        "for n in range(0, N):\n",
        "  ad = 0 # ad selected at the n round\n",
        "  max_random = 0 # max of random draws\n",
        "  # second loop interacting through the d ads\n",
        "  for i in range(0, d):\n",
        "    # 2. for each ADi, we take a random draw from the Beta distribution\n",
        "    #   FI(n) = BETA(N|1i(n) + 1, N|0i(n) + 1)\n",
        "    random_beta = random.betavariate(numbers_of_rewards_1[i] + 1, numbers_of_rewards_0[i] + 1)\n",
        "\n",
        "    # 3. Select the AD that has the highest FI(n)\n",
        "    if random_beta > max_random:\n",
        "      max_random = random_beta\n",
        "      ad = i\n",
        "  # update the variables\n",
        "  ads_selected.append(ad) # append the new selected ad to the list\n",
        "  reward = dataset.values[n, ad] # reward of the ad\n",
        "  # update number of rewards\n",
        "  if reward == 1:\n",
        "    numbers_of_rewards_1[ad] = numbers_of_rewards_1[ad] + 1\n",
        "  else:\n",
        "    numbers_of_rewards_0[ad] = numbers_of_rewards_0[ad] + 1\n",
        "  # update accumulated total reward\n",
        "  total_reward = total_reward + reward\n",
        "\n",
        "print('Total reward: ' + str(total_reward))\n",
        "\n",
        "\n",
        "\n",
        "\n",
        "\n",
        "\n",
        "\n",
        "\n"
      ],
      "metadata": {
        "colab": {
          "base_uri": "https://localhost:8080/"
        },
        "id": "6zdgeyBtGsbE",
        "outputId": "9c1fa95c-d5a8-457b-f5d6-60ba928428e1"
      },
      "execution_count": 9,
      "outputs": [
        {
          "output_type": "stream",
          "name": "stdout",
          "text": [
            "Total reward: 2611\n"
          ]
        }
      ]
    },
    {
      "cell_type": "markdown",
      "metadata": {
        "id": "tweWsgTHyXhv"
      },
      "source": [
        "## Visualising the results - Histogram"
      ]
    },
    {
      "cell_type": "code",
      "metadata": {
        "id": "k8DJmN06yak3",
        "outputId": "1fb06bdf-a90a-4be6-9330-1984be8b614a",
        "colab": {
          "base_uri": "https://localhost:8080/",
          "height": 472
        }
      },
      "source": [
        "plt.hist(ads_selected)\n",
        "plt.title('Histogram of ads selections')\n",
        "plt.xlabel('Ads')\n",
        "plt.ylabel('Number of times each ad was selected')\n",
        "plt.show()"
      ],
      "execution_count": 10,
      "outputs": [
        {
          "output_type": "display_data",
          "data": {
            "text/plain": [
              "<Figure size 640x480 with 1 Axes>"
            ],
            "image/png": "[encoded data removed]"
          },
          "metadata": {}
        }
      ]
    }
  ]
}